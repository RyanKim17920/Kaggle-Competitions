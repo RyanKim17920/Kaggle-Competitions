{
 "cells": [
  {
   "cell_type": "code",
   "execution_count": 2,
   "id": "8baa6a95",
   "metadata": {
    "_cell_guid": "b1076dfc-b9ad-4769-8c92-a6c4dae69d19",
    "_uuid": "8f2839f25d086af736a60e9eeb907d3b93b6e0e5",
    "execution": {
     "iopub.execute_input": "2024-01-03T02:55:07.718602Z",
     "iopub.status.busy": "2024-01-03T02:55:07.717919Z",
     "iopub.status.idle": "2024-01-03T02:55:09.911539Z",
     "shell.execute_reply": "2024-01-03T02:55:09.910157Z"
    },
    "papermill": {
     "duration": 2.205826,
     "end_time": "2024-01-03T02:55:09.914129",
     "exception": false,
     "start_time": "2024-01-03T02:55:07.708303",
     "status": "completed"
    },
    "tags": [],
    "ExecuteTime": {
     "end_time": "2024-01-06T03:53:19.933041800Z",
     "start_time": "2024-01-06T03:53:19.828201400Z"
    }
   },
   "outputs": [],
   "source": [
    "import pandas as pd \n",
    "from sklearn.ensemble import RandomForestClassifier"
   ]
  },
  {
   "cell_type": "code",
   "execution_count": 3,
   "id": "e0a817f6",
   "metadata": {
    "execution": {
     "iopub.execute_input": "2024-01-03T02:55:09.929413Z",
     "iopub.status.busy": "2024-01-03T02:55:09.928814Z",
     "iopub.status.idle": "2024-01-03T02:55:09.954465Z",
     "shell.execute_reply": "2024-01-03T02:55:09.953155Z"
    },
    "papermill": {
     "duration": 0.036284,
     "end_time": "2024-01-03T02:55:09.957306",
     "exception": false,
     "start_time": "2024-01-03T02:55:09.921022",
     "status": "completed"
    },
    "tags": [],
    "ExecuteTime": {
     "end_time": "2024-01-06T03:53:20.039715500Z",
     "start_time": "2024-01-06T03:53:19.835677500Z"
    }
   },
   "outputs": [],
   "source": [
    "data = pd.read_csv('train.csv')"
   ]
  },
  {
   "cell_type": "code",
   "execution_count": 4,
   "id": "85a97829",
   "metadata": {
    "execution": {
     "iopub.execute_input": "2024-01-03T02:55:09.972676Z",
     "iopub.status.busy": "2024-01-03T02:55:09.971926Z",
     "iopub.status.idle": "2024-01-03T02:55:10.013174Z",
     "shell.execute_reply": "2024-01-03T02:55:10.011957Z"
    },
    "papermill": {
     "duration": 0.052021,
     "end_time": "2024-01-03T02:55:10.016126",
     "exception": false,
     "start_time": "2024-01-03T02:55:09.964105",
     "status": "completed"
    },
    "tags": [],
    "ExecuteTime": {
     "end_time": "2024-01-06T03:53:20.044718700Z",
     "start_time": "2024-01-06T03:53:19.862019400Z"
    }
   },
   "outputs": [
    {
     "data": {
      "text/plain": "     PassengerId  Survived  Pclass  \\\n0              1         0       3   \n1              2         1       1   \n2              3         1       3   \n3              4         1       1   \n4              5         0       3   \n..           ...       ...     ...   \n886          887         0       2   \n887          888         1       1   \n888          889         0       3   \n889          890         1       1   \n890          891         0       3   \n\n                                                  Name     Sex   Age  SibSp  \\\n0                              Braund, Mr. Owen Harris    male  22.0      1   \n1    Cumings, Mrs. John Bradley (Florence Briggs Th...  female  38.0      1   \n2                               Heikkinen, Miss. Laina  female  26.0      0   \n3         Futrelle, Mrs. Jacques Heath (Lily May Peel)  female  35.0      1   \n4                             Allen, Mr. William Henry    male  35.0      0   \n..                                                 ...     ...   ...    ...   \n886                              Montvila, Rev. Juozas    male  27.0      0   \n887                       Graham, Miss. Margaret Edith  female  19.0      0   \n888           Johnston, Miss. Catherine Helen \"Carrie\"  female   NaN      1   \n889                              Behr, Mr. Karl Howell    male  26.0      0   \n890                                Dooley, Mr. Patrick    male  32.0      0   \n\n     Parch            Ticket     Fare Cabin Embarked  \n0        0         A/5 21171   7.2500   NaN        S  \n1        0          PC 17599  71.2833   C85        C  \n2        0  STON/O2. 3101282   7.9250   NaN        S  \n3        0            113803  53.1000  C123        S  \n4        0            373450   8.0500   NaN        S  \n..     ...               ...      ...   ...      ...  \n886      0            211536  13.0000   NaN        S  \n887      0            112053  30.0000   B42        S  \n888      2        W./C. 6607  23.4500   NaN        S  \n889      0            111369  30.0000  C148        C  \n890      0            370376   7.7500   NaN        Q  \n\n[891 rows x 12 columns]",
      "text/html": "<div>\n<style scoped>\n    .dataframe tbody tr th:only-of-type {\n        vertical-align: middle;\n    }\n\n    .dataframe tbody tr th {\n        vertical-align: top;\n    }\n\n    .dataframe thead th {\n        text-align: right;\n    }\n</style>\n<table border=\"1\" class=\"dataframe\">\n  <thead>\n    <tr style=\"text-align: right;\">\n      <th></th>\n      <th>PassengerId</th>\n      <th>Survived</th>\n      <th>Pclass</th>\n      <th>Name</th>\n      <th>Sex</th>\n      <th>Age</th>\n      <th>SibSp</th>\n      <th>Parch</th>\n      <th>Ticket</th>\n      <th>Fare</th>\n      <th>Cabin</th>\n      <th>Embarked</th>\n    </tr>\n  </thead>\n  <tbody>\n    <tr>\n      <th>0</th>\n      <td>1</td>\n      <td>0</td>\n      <td>3</td>\n      <td>Braund, Mr. Owen Harris</td>\n      <td>male</td>\n      <td>22.0</td>\n      <td>1</td>\n      <td>0</td>\n      <td>A/5 21171</td>\n      <td>7.2500</td>\n      <td>NaN</td>\n      <td>S</td>\n    </tr>\n    <tr>\n      <th>1</th>\n      <td>2</td>\n      <td>1</td>\n      <td>1</td>\n      <td>Cumings, Mrs. John Bradley (Florence Briggs Th...</td>\n      <td>female</td>\n      <td>38.0</td>\n      <td>1</td>\n      <td>0</td>\n      <td>PC 17599</td>\n      <td>71.2833</td>\n      <td>C85</td>\n      <td>C</td>\n    </tr>\n    <tr>\n      <th>2</th>\n      <td>3</td>\n      <td>1</td>\n      <td>3</td>\n      <td>Heikkinen, Miss. Laina</td>\n      <td>female</td>\n      <td>26.0</td>\n      <td>0</td>\n      <td>0</td>\n      <td>STON/O2. 3101282</td>\n      <td>7.9250</td>\n      <td>NaN</td>\n      <td>S</td>\n    </tr>\n    <tr>\n      <th>3</th>\n      <td>4</td>\n      <td>1</td>\n      <td>1</td>\n      <td>Futrelle, Mrs. Jacques Heath (Lily May Peel)</td>\n      <td>female</td>\n      <td>35.0</td>\n      <td>1</td>\n      <td>0</td>\n      <td>113803</td>\n      <td>53.1000</td>\n      <td>C123</td>\n      <td>S</td>\n    </tr>\n    <tr>\n      <th>4</th>\n      <td>5</td>\n      <td>0</td>\n      <td>3</td>\n      <td>Allen, Mr. William Henry</td>\n      <td>male</td>\n      <td>35.0</td>\n      <td>0</td>\n      <td>0</td>\n      <td>373450</td>\n      <td>8.0500</td>\n      <td>NaN</td>\n      <td>S</td>\n    </tr>\n    <tr>\n      <th>...</th>\n      <td>...</td>\n      <td>...</td>\n      <td>...</td>\n      <td>...</td>\n      <td>...</td>\n      <td>...</td>\n      <td>...</td>\n      <td>...</td>\n      <td>...</td>\n      <td>...</td>\n      <td>...</td>\n      <td>...</td>\n    </tr>\n    <tr>\n      <th>886</th>\n      <td>887</td>\n      <td>0</td>\n      <td>2</td>\n      <td>Montvila, Rev. Juozas</td>\n      <td>male</td>\n      <td>27.0</td>\n      <td>0</td>\n      <td>0</td>\n      <td>211536</td>\n      <td>13.0000</td>\n      <td>NaN</td>\n      <td>S</td>\n    </tr>\n    <tr>\n      <th>887</th>\n      <td>888</td>\n      <td>1</td>\n      <td>1</td>\n      <td>Graham, Miss. Margaret Edith</td>\n      <td>female</td>\n      <td>19.0</td>\n      <td>0</td>\n      <td>0</td>\n      <td>112053</td>\n      <td>30.0000</td>\n      <td>B42</td>\n      <td>S</td>\n    </tr>\n    <tr>\n      <th>888</th>\n      <td>889</td>\n      <td>0</td>\n      <td>3</td>\n      <td>Johnston, Miss. Catherine Helen \"Carrie\"</td>\n      <td>female</td>\n      <td>NaN</td>\n      <td>1</td>\n      <td>2</td>\n      <td>W./C. 6607</td>\n      <td>23.4500</td>\n      <td>NaN</td>\n      <td>S</td>\n    </tr>\n    <tr>\n      <th>889</th>\n      <td>890</td>\n      <td>1</td>\n      <td>1</td>\n      <td>Behr, Mr. Karl Howell</td>\n      <td>male</td>\n      <td>26.0</td>\n      <td>0</td>\n      <td>0</td>\n      <td>111369</td>\n      <td>30.0000</td>\n      <td>C148</td>\n      <td>C</td>\n    </tr>\n    <tr>\n      <th>890</th>\n      <td>891</td>\n      <td>0</td>\n      <td>3</td>\n      <td>Dooley, Mr. Patrick</td>\n      <td>male</td>\n      <td>32.0</td>\n      <td>0</td>\n      <td>0</td>\n      <td>370376</td>\n      <td>7.7500</td>\n      <td>NaN</td>\n      <td>Q</td>\n    </tr>\n  </tbody>\n</table>\n<p>891 rows × 12 columns</p>\n</div>"
     },
     "execution_count": 4,
     "metadata": {},
     "output_type": "execute_result"
    }
   ],
   "source": [
    "data"
   ]
  },
  {
   "cell_type": "code",
   "execution_count": 5,
   "id": "717390be",
   "metadata": {
    "execution": {
     "iopub.execute_input": "2024-01-03T02:55:10.032372Z",
     "iopub.status.busy": "2024-01-03T02:55:10.031989Z",
     "iopub.status.idle": "2024-01-03T02:55:10.039166Z",
     "shell.execute_reply": "2024-01-03T02:55:10.038114Z"
    },
    "papermill": {
     "duration": 0.018164,
     "end_time": "2024-01-03T02:55:10.041483",
     "exception": false,
     "start_time": "2024-01-03T02:55:10.023319",
     "status": "completed"
    },
    "tags": [],
    "ExecuteTime": {
     "end_time": "2024-01-06T03:53:20.074718Z",
     "start_time": "2024-01-06T03:53:19.913350900Z"
    }
   },
   "outputs": [],
   "source": [
    "def process_data(data):\n",
    "    data = data.drop(columns = ['PassengerId','Name','Ticket','Embarked','Cabin'])\n",
    "    one_hot_for_class = pd.get_dummies(data['Pclass'])\n",
    "    one_hot_for_sex = pd.get_dummies(data['Sex'])\n",
    "    data = data.drop(columns=['Pclass','Sex'])\n",
    "    data = data.join(one_hot_for_class).join(one_hot_for_sex)\n",
    "    data = data.fillna(data.mean())\n",
    "    data.columns = data.columns.astype(str)\n",
    "    data = data.astype(float)\n",
    "    return data"
   ]
  },
  {
   "cell_type": "code",
   "execution_count": 6,
   "id": "687b83ff",
   "metadata": {
    "execution": {
     "iopub.execute_input": "2024-01-03T02:55:10.057728Z",
     "iopub.status.busy": "2024-01-03T02:55:10.057350Z",
     "iopub.status.idle": "2024-01-03T02:55:10.084523Z",
     "shell.execute_reply": "2024-01-03T02:55:10.083189Z"
    },
    "papermill": {
     "duration": 0.038608,
     "end_time": "2024-01-03T02:55:10.087434",
     "exception": false,
     "start_time": "2024-01-03T02:55:10.048826",
     "status": "completed"
    },
    "tags": [],
    "ExecuteTime": {
     "end_time": "2024-01-06T03:53:20.075717500Z",
     "start_time": "2024-01-06T03:53:19.925037100Z"
    }
   },
   "outputs": [],
   "source": [
    "data = process_data(data)"
   ]
  },
  {
   "cell_type": "code",
   "execution_count": 7,
   "id": "fa9da47a",
   "metadata": {
    "execution": {
     "iopub.execute_input": "2024-01-03T02:55:10.104429Z",
     "iopub.status.busy": "2024-01-03T02:55:10.103965Z",
     "iopub.status.idle": "2024-01-03T02:55:10.134893Z",
     "shell.execute_reply": "2024-01-03T02:55:10.133649Z"
    },
    "papermill": {
     "duration": 0.042293,
     "end_time": "2024-01-03T02:55:10.137693",
     "exception": false,
     "start_time": "2024-01-03T02:55:10.095400",
     "status": "completed"
    },
    "tags": [],
    "ExecuteTime": {
     "end_time": "2024-01-06T03:53:20.076717800Z",
     "start_time": "2024-01-06T03:53:19.957775700Z"
    }
   },
   "outputs": [
    {
     "data": {
      "text/plain": "     Survived        Age  SibSp  Parch     Fare    1    2    3  female  male\n0         0.0  22.000000    1.0    0.0   7.2500  0.0  0.0  1.0     0.0   1.0\n1         1.0  38.000000    1.0    0.0  71.2833  1.0  0.0  0.0     1.0   0.0\n2         1.0  26.000000    0.0    0.0   7.9250  0.0  0.0  1.0     1.0   0.0\n3         1.0  35.000000    1.0    0.0  53.1000  1.0  0.0  0.0     1.0   0.0\n4         0.0  35.000000    0.0    0.0   8.0500  0.0  0.0  1.0     0.0   1.0\n..        ...        ...    ...    ...      ...  ...  ...  ...     ...   ...\n886       0.0  27.000000    0.0    0.0  13.0000  0.0  1.0  0.0     0.0   1.0\n887       1.0  19.000000    0.0    0.0  30.0000  1.0  0.0  0.0     1.0   0.0\n888       0.0  29.699118    1.0    2.0  23.4500  0.0  0.0  1.0     1.0   0.0\n889       1.0  26.000000    0.0    0.0  30.0000  1.0  0.0  0.0     0.0   1.0\n890       0.0  32.000000    0.0    0.0   7.7500  0.0  0.0  1.0     0.0   1.0\n\n[891 rows x 10 columns]",
      "text/html": "<div>\n<style scoped>\n    .dataframe tbody tr th:only-of-type {\n        vertical-align: middle;\n    }\n\n    .dataframe tbody tr th {\n        vertical-align: top;\n    }\n\n    .dataframe thead th {\n        text-align: right;\n    }\n</style>\n<table border=\"1\" class=\"dataframe\">\n  <thead>\n    <tr style=\"text-align: right;\">\n      <th></th>\n      <th>Survived</th>\n      <th>Age</th>\n      <th>SibSp</th>\n      <th>Parch</th>\n      <th>Fare</th>\n      <th>1</th>\n      <th>2</th>\n      <th>3</th>\n      <th>female</th>\n      <th>male</th>\n    </tr>\n  </thead>\n  <tbody>\n    <tr>\n      <th>0</th>\n      <td>0.0</td>\n      <td>22.000000</td>\n      <td>1.0</td>\n      <td>0.0</td>\n      <td>7.2500</td>\n      <td>0.0</td>\n      <td>0.0</td>\n      <td>1.0</td>\n      <td>0.0</td>\n      <td>1.0</td>\n    </tr>\n    <tr>\n      <th>1</th>\n      <td>1.0</td>\n      <td>38.000000</td>\n      <td>1.0</td>\n      <td>0.0</td>\n      <td>71.2833</td>\n      <td>1.0</td>\n      <td>0.0</td>\n      <td>0.0</td>\n      <td>1.0</td>\n      <td>0.0</td>\n    </tr>\n    <tr>\n      <th>2</th>\n      <td>1.0</td>\n      <td>26.000000</td>\n      <td>0.0</td>\n      <td>0.0</td>\n      <td>7.9250</td>\n      <td>0.0</td>\n      <td>0.0</td>\n      <td>1.0</td>\n      <td>1.0</td>\n      <td>0.0</td>\n    </tr>\n    <tr>\n      <th>3</th>\n      <td>1.0</td>\n      <td>35.000000</td>\n      <td>1.0</td>\n      <td>0.0</td>\n      <td>53.1000</td>\n      <td>1.0</td>\n      <td>0.0</td>\n      <td>0.0</td>\n      <td>1.0</td>\n      <td>0.0</td>\n    </tr>\n    <tr>\n      <th>4</th>\n      <td>0.0</td>\n      <td>35.000000</td>\n      <td>0.0</td>\n      <td>0.0</td>\n      <td>8.0500</td>\n      <td>0.0</td>\n      <td>0.0</td>\n      <td>1.0</td>\n      <td>0.0</td>\n      <td>1.0</td>\n    </tr>\n    <tr>\n      <th>...</th>\n      <td>...</td>\n      <td>...</td>\n      <td>...</td>\n      <td>...</td>\n      <td>...</td>\n      <td>...</td>\n      <td>...</td>\n      <td>...</td>\n      <td>...</td>\n      <td>...</td>\n    </tr>\n    <tr>\n      <th>886</th>\n      <td>0.0</td>\n      <td>27.000000</td>\n      <td>0.0</td>\n      <td>0.0</td>\n      <td>13.0000</td>\n      <td>0.0</td>\n      <td>1.0</td>\n      <td>0.0</td>\n      <td>0.0</td>\n      <td>1.0</td>\n    </tr>\n    <tr>\n      <th>887</th>\n      <td>1.0</td>\n      <td>19.000000</td>\n      <td>0.0</td>\n      <td>0.0</td>\n      <td>30.0000</td>\n      <td>1.0</td>\n      <td>0.0</td>\n      <td>0.0</td>\n      <td>1.0</td>\n      <td>0.0</td>\n    </tr>\n    <tr>\n      <th>888</th>\n      <td>0.0</td>\n      <td>29.699118</td>\n      <td>1.0</td>\n      <td>2.0</td>\n      <td>23.4500</td>\n      <td>0.0</td>\n      <td>0.0</td>\n      <td>1.0</td>\n      <td>1.0</td>\n      <td>0.0</td>\n    </tr>\n    <tr>\n      <th>889</th>\n      <td>1.0</td>\n      <td>26.000000</td>\n      <td>0.0</td>\n      <td>0.0</td>\n      <td>30.0000</td>\n      <td>1.0</td>\n      <td>0.0</td>\n      <td>0.0</td>\n      <td>0.0</td>\n      <td>1.0</td>\n    </tr>\n    <tr>\n      <th>890</th>\n      <td>0.0</td>\n      <td>32.000000</td>\n      <td>0.0</td>\n      <td>0.0</td>\n      <td>7.7500</td>\n      <td>0.0</td>\n      <td>0.0</td>\n      <td>1.0</td>\n      <td>0.0</td>\n      <td>1.0</td>\n    </tr>\n  </tbody>\n</table>\n<p>891 rows × 10 columns</p>\n</div>"
     },
     "execution_count": 7,
     "metadata": {},
     "output_type": "execute_result"
    }
   ],
   "source": [
    "data"
   ]
  },
  {
   "cell_type": "code",
   "execution_count": 8,
   "id": "07a0bd61",
   "metadata": {
    "execution": {
     "iopub.execute_input": "2024-01-03T02:55:10.155934Z",
     "iopub.status.busy": "2024-01-03T02:55:10.154593Z",
     "iopub.status.idle": "2024-01-03T02:55:10.159760Z",
     "shell.execute_reply": "2024-01-03T02:55:10.158853Z"
    },
    "papermill": {
     "duration": 0.016912,
     "end_time": "2024-01-03T02:55:10.162609",
     "exception": false,
     "start_time": "2024-01-03T02:55:10.145697",
     "status": "completed"
    },
    "tags": [],
    "ExecuteTime": {
     "end_time": "2024-01-06T03:53:20.077718500Z",
     "start_time": "2024-01-06T03:53:19.984977600Z"
    }
   },
   "outputs": [],
   "source": [
    "classifier = RandomForestClassifier()"
   ]
  },
  {
   "cell_type": "code",
   "execution_count": 9,
   "id": "4f0f3f72",
   "metadata": {
    "execution": {
     "iopub.execute_input": "2024-01-03T02:55:10.180567Z",
     "iopub.status.busy": "2024-01-03T02:55:10.179782Z",
     "iopub.status.idle": "2024-01-03T02:55:10.474460Z",
     "shell.execute_reply": "2024-01-03T02:55:10.473344Z"
    },
    "papermill": {
     "duration": 0.306689,
     "end_time": "2024-01-03T02:55:10.476981",
     "exception": false,
     "start_time": "2024-01-03T02:55:10.170292",
     "status": "completed"
    },
    "tags": [],
    "ExecuteTime": {
     "end_time": "2024-01-06T03:53:20.435424400Z",
     "start_time": "2024-01-06T03:53:19.994186600Z"
    }
   },
   "outputs": [
    {
     "data": {
      "text/plain": "RandomForestClassifier()",
      "text/html": "<style>#sk-container-id-1 {color: black;}#sk-container-id-1 pre{padding: 0;}#sk-container-id-1 div.sk-toggleable {background-color: white;}#sk-container-id-1 label.sk-toggleable__label {cursor: pointer;display: block;width: 100%;margin-bottom: 0;padding: 0.3em;box-sizing: border-box;text-align: center;}#sk-container-id-1 label.sk-toggleable__label-arrow:before {content: \"▸\";float: left;margin-right: 0.25em;color: #696969;}#sk-container-id-1 label.sk-toggleable__label-arrow:hover:before {color: black;}#sk-container-id-1 div.sk-estimator:hover label.sk-toggleable__label-arrow:before {color: black;}#sk-container-id-1 div.sk-toggleable__content {max-height: 0;max-width: 0;overflow: hidden;text-align: left;background-color: #f0f8ff;}#sk-container-id-1 div.sk-toggleable__content pre {margin: 0.2em;color: black;border-radius: 0.25em;background-color: #f0f8ff;}#sk-container-id-1 input.sk-toggleable__control:checked~div.sk-toggleable__content {max-height: 200px;max-width: 100%;overflow: auto;}#sk-container-id-1 input.sk-toggleable__control:checked~label.sk-toggleable__label-arrow:before {content: \"▾\";}#sk-container-id-1 div.sk-estimator input.sk-toggleable__control:checked~label.sk-toggleable__label {background-color: #d4ebff;}#sk-container-id-1 div.sk-label input.sk-toggleable__control:checked~label.sk-toggleable__label {background-color: #d4ebff;}#sk-container-id-1 input.sk-hidden--visually {border: 0;clip: rect(1px 1px 1px 1px);clip: rect(1px, 1px, 1px, 1px);height: 1px;margin: -1px;overflow: hidden;padding: 0;position: absolute;width: 1px;}#sk-container-id-1 div.sk-estimator {font-family: monospace;background-color: #f0f8ff;border: 1px dotted black;border-radius: 0.25em;box-sizing: border-box;margin-bottom: 0.5em;}#sk-container-id-1 div.sk-estimator:hover {background-color: #d4ebff;}#sk-container-id-1 div.sk-parallel-item::after {content: \"\";width: 100%;border-bottom: 1px solid gray;flex-grow: 1;}#sk-container-id-1 div.sk-label:hover label.sk-toggleable__label {background-color: #d4ebff;}#sk-container-id-1 div.sk-serial::before {content: \"\";position: absolute;border-left: 1px solid gray;box-sizing: border-box;top: 0;bottom: 0;left: 50%;z-index: 0;}#sk-container-id-1 div.sk-serial {display: flex;flex-direction: column;align-items: center;background-color: white;padding-right: 0.2em;padding-left: 0.2em;position: relative;}#sk-container-id-1 div.sk-item {position: relative;z-index: 1;}#sk-container-id-1 div.sk-parallel {display: flex;align-items: stretch;justify-content: center;background-color: white;position: relative;}#sk-container-id-1 div.sk-item::before, #sk-container-id-1 div.sk-parallel-item::before {content: \"\";position: absolute;border-left: 1px solid gray;box-sizing: border-box;top: 0;bottom: 0;left: 50%;z-index: -1;}#sk-container-id-1 div.sk-parallel-item {display: flex;flex-direction: column;z-index: 1;position: relative;background-color: white;}#sk-container-id-1 div.sk-parallel-item:first-child::after {align-self: flex-end;width: 50%;}#sk-container-id-1 div.sk-parallel-item:last-child::after {align-self: flex-start;width: 50%;}#sk-container-id-1 div.sk-parallel-item:only-child::after {width: 0;}#sk-container-id-1 div.sk-dashed-wrapped {border: 1px dashed gray;margin: 0 0.4em 0.5em 0.4em;box-sizing: border-box;padding-bottom: 0.4em;background-color: white;}#sk-container-id-1 div.sk-label label {font-family: monospace;font-weight: bold;display: inline-block;line-height: 1.2em;}#sk-container-id-1 div.sk-label-container {text-align: center;}#sk-container-id-1 div.sk-container {/* jupyter's `normalize.less` sets `[hidden] { display: none; }` but bootstrap.min.css set `[hidden] { display: none !important; }` so we also need the `!important` here to be able to override the default hidden behavior on the sphinx rendered scikit-learn.org. See: https://github.com/scikit-learn/scikit-learn/issues/21755 */display: inline-block !important;position: relative;}#sk-container-id-1 div.sk-text-repr-fallback {display: none;}</style><div id=\"sk-container-id-1\" class=\"sk-top-container\"><div class=\"sk-text-repr-fallback\"><pre>RandomForestClassifier()</pre><b>In a Jupyter environment, please rerun this cell to show the HTML representation or trust the notebook. <br />On GitHub, the HTML representation is unable to render, please try loading this page with nbviewer.org.</b></div><div class=\"sk-container\" hidden><div class=\"sk-item\"><div class=\"sk-estimator sk-toggleable\"><input class=\"sk-toggleable__control sk-hidden--visually\" id=\"sk-estimator-id-1\" type=\"checkbox\" checked><label for=\"sk-estimator-id-1\" class=\"sk-toggleable__label sk-toggleable__label-arrow\">RandomForestClassifier</label><div class=\"sk-toggleable__content\"><pre>RandomForestClassifier()</pre></div></div></div></div></div>"
     },
     "execution_count": 9,
     "metadata": {},
     "output_type": "execute_result"
    }
   ],
   "source": [
    "classifier.fit(data[data.columns[1:]],data[\"Survived\"])"
   ]
  },
  {
   "cell_type": "code",
   "execution_count": 10,
   "id": "e6fc749d",
   "metadata": {
    "execution": {
     "iopub.execute_input": "2024-01-03T02:55:10.494715Z",
     "iopub.status.busy": "2024-01-03T02:55:10.494300Z",
     "iopub.status.idle": "2024-01-03T02:55:10.507426Z",
     "shell.execute_reply": "2024-01-03T02:55:10.506265Z"
    },
    "papermill": {
     "duration": 0.025065,
     "end_time": "2024-01-03T02:55:10.510097",
     "exception": false,
     "start_time": "2024-01-03T02:55:10.485032",
     "status": "completed"
    },
    "tags": [],
    "ExecuteTime": {
     "end_time": "2024-01-06T03:53:20.435424400Z",
     "start_time": "2024-01-06T03:53:20.378622600Z"
    }
   },
   "outputs": [],
   "source": [
    "test_data = pd.read_csv('test.csv')"
   ]
  },
  {
   "cell_type": "code",
   "execution_count": 11,
   "id": "d14945fc",
   "metadata": {
    "execution": {
     "iopub.execute_input": "2024-01-03T02:55:10.527955Z",
     "iopub.status.busy": "2024-01-03T02:55:10.527495Z",
     "iopub.status.idle": "2024-01-03T02:55:10.543771Z",
     "shell.execute_reply": "2024-01-03T02:55:10.542624Z"
    },
    "papermill": {
     "duration": 0.028543,
     "end_time": "2024-01-03T02:55:10.546499",
     "exception": false,
     "start_time": "2024-01-03T02:55:10.517956",
     "status": "completed"
    },
    "tags": [],
    "ExecuteTime": {
     "end_time": "2024-01-06T03:53:20.436423900Z",
     "start_time": "2024-01-06T03:53:20.393805700Z"
    }
   },
   "outputs": [],
   "source": [
    "test_data = process_data(test_data)"
   ]
  },
  {
   "cell_type": "code",
   "execution_count": 12,
   "id": "aac0adc4",
   "metadata": {
    "execution": {
     "iopub.execute_input": "2024-01-03T02:55:10.564732Z",
     "iopub.status.busy": "2024-01-03T02:55:10.564060Z",
     "iopub.status.idle": "2024-01-03T02:55:10.585983Z",
     "shell.execute_reply": "2024-01-03T02:55:10.584942Z"
    },
    "papermill": {
     "duration": 0.034092,
     "end_time": "2024-01-03T02:55:10.588859",
     "exception": false,
     "start_time": "2024-01-03T02:55:10.554767",
     "status": "completed"
    },
    "tags": [],
    "ExecuteTime": {
     "end_time": "2024-01-06T03:53:20.456187700Z",
     "start_time": "2024-01-06T03:53:20.414078700Z"
    }
   },
   "outputs": [],
   "source": [
    "outputs = pd.DataFrame((classifier.predict(test_data)).astype(int))"
   ]
  },
  {
   "cell_type": "code",
   "execution_count": 13,
   "id": "18a73f33",
   "metadata": {
    "execution": {
     "iopub.execute_input": "2024-01-03T02:55:10.605993Z",
     "iopub.status.busy": "2024-01-03T02:55:10.605521Z",
     "iopub.status.idle": "2024-01-03T02:55:10.615647Z",
     "shell.execute_reply": "2024-01-03T02:55:10.614475Z"
    },
    "papermill": {
     "duration": 0.021624,
     "end_time": "2024-01-03T02:55:10.618136",
     "exception": false,
     "start_time": "2024-01-03T02:55:10.596512",
     "status": "completed"
    },
    "tags": [],
    "ExecuteTime": {
     "end_time": "2024-01-06T03:53:20.621530700Z",
     "start_time": "2024-01-06T03:53:20.454187200Z"
    }
   },
   "outputs": [
    {
     "data": {
      "text/plain": "   0\n0  0\n1  0\n2  1\n3  1\n4  0\n5  0\n6  0\n7  0\n8  1\n9  0",
      "text/html": "<div>\n<style scoped>\n    .dataframe tbody tr th:only-of-type {\n        vertical-align: middle;\n    }\n\n    .dataframe tbody tr th {\n        vertical-align: top;\n    }\n\n    .dataframe thead th {\n        text-align: right;\n    }\n</style>\n<table border=\"1\" class=\"dataframe\">\n  <thead>\n    <tr style=\"text-align: right;\">\n      <th></th>\n      <th>0</th>\n    </tr>\n  </thead>\n  <tbody>\n    <tr>\n      <th>0</th>\n      <td>0</td>\n    </tr>\n    <tr>\n      <th>1</th>\n      <td>0</td>\n    </tr>\n    <tr>\n      <th>2</th>\n      <td>1</td>\n    </tr>\n    <tr>\n      <th>3</th>\n      <td>1</td>\n    </tr>\n    <tr>\n      <th>4</th>\n      <td>0</td>\n    </tr>\n    <tr>\n      <th>5</th>\n      <td>0</td>\n    </tr>\n    <tr>\n      <th>6</th>\n      <td>0</td>\n    </tr>\n    <tr>\n      <th>7</th>\n      <td>0</td>\n    </tr>\n    <tr>\n      <th>8</th>\n      <td>1</td>\n    </tr>\n    <tr>\n      <th>9</th>\n      <td>0</td>\n    </tr>\n  </tbody>\n</table>\n</div>"
     },
     "execution_count": 13,
     "metadata": {},
     "output_type": "execute_result"
    }
   ],
   "source": [
    "outputs[0:10]"
   ]
  },
  {
   "cell_type": "code",
   "execution_count": 14,
   "id": "18757cbf",
   "metadata": {
    "execution": {
     "iopub.execute_input": "2024-01-03T02:55:10.635902Z",
     "iopub.status.busy": "2024-01-03T02:55:10.635444Z",
     "iopub.status.idle": "2024-01-03T02:55:10.645175Z",
     "shell.execute_reply": "2024-01-03T02:55:10.644029Z"
    },
    "papermill": {
     "duration": 0.021522,
     "end_time": "2024-01-03T02:55:10.647794",
     "exception": false,
     "start_time": "2024-01-03T02:55:10.626272",
     "status": "completed"
    },
    "tags": [],
    "ExecuteTime": {
     "end_time": "2024-01-06T03:53:20.622535700Z",
     "start_time": "2024-01-06T03:53:20.470895600Z"
    }
   },
   "outputs": [],
   "source": [
    "test_2 = pd.read_csv('test.csv')"
   ]
  },
  {
   "cell_type": "code",
   "execution_count": 15,
   "id": "4ef5308e",
   "metadata": {
    "execution": {
     "iopub.execute_input": "2024-01-03T02:55:10.665729Z",
     "iopub.status.busy": "2024-01-03T02:55:10.665297Z",
     "iopub.status.idle": "2024-01-03T02:55:10.676224Z",
     "shell.execute_reply": "2024-01-03T02:55:10.674921Z"
    },
    "papermill": {
     "duration": 0.02271,
     "end_time": "2024-01-03T02:55:10.678527",
     "exception": false,
     "start_time": "2024-01-03T02:55:10.655817",
     "status": "completed"
    },
    "tags": [],
    "ExecuteTime": {
     "end_time": "2024-01-06T03:53:20.622535700Z",
     "start_time": "2024-01-06T03:53:20.488732800Z"
    }
   },
   "outputs": [],
   "source": [
    "output = pd.DataFrame(test_2['PassengerId']).join(outputs)"
   ]
  },
  {
   "cell_type": "code",
   "execution_count": 16,
   "id": "2e71962f",
   "metadata": {
    "execution": {
     "iopub.execute_input": "2024-01-03T02:55:10.696711Z",
     "iopub.status.busy": "2024-01-03T02:55:10.696286Z",
     "iopub.status.idle": "2024-01-03T02:55:10.703116Z",
     "shell.execute_reply": "2024-01-03T02:55:10.701841Z"
    },
    "papermill": {
     "duration": 0.018869,
     "end_time": "2024-01-03T02:55:10.705673",
     "exception": false,
     "start_time": "2024-01-03T02:55:10.686804",
     "status": "completed"
    },
    "tags": [],
    "ExecuteTime": {
     "end_time": "2024-01-06T03:53:20.623538800Z",
     "start_time": "2024-01-06T03:53:20.508833400Z"
    }
   },
   "outputs": [],
   "source": [
    "output = output.rename(columns={0:'Survived'})"
   ]
  },
  {
   "cell_type": "code",
   "execution_count": 17,
   "id": "d68416f4",
   "metadata": {
    "execution": {
     "iopub.execute_input": "2024-01-03T02:55:10.724378Z",
     "iopub.status.busy": "2024-01-03T02:55:10.723981Z",
     "iopub.status.idle": "2024-01-03T02:55:10.736105Z",
     "shell.execute_reply": "2024-01-03T02:55:10.734952Z"
    },
    "papermill": {
     "duration": 0.024689,
     "end_time": "2024-01-03T02:55:10.738692",
     "exception": false,
     "start_time": "2024-01-03T02:55:10.714003",
     "status": "completed"
    },
    "tags": [],
    "ExecuteTime": {
     "end_time": "2024-01-06T03:53:20.624539400Z",
     "start_time": "2024-01-06T03:53:20.526465Z"
    }
   },
   "outputs": [
    {
     "data": {
      "text/plain": "     PassengerId  Survived\n0            892         0\n1            893         0\n2            894         1\n3            895         1\n4            896         0\n..           ...       ...\n413         1305         0\n414         1306         1\n415         1307         0\n416         1308         0\n417         1309         0\n\n[418 rows x 2 columns]",
      "text/html": "<div>\n<style scoped>\n    .dataframe tbody tr th:only-of-type {\n        vertical-align: middle;\n    }\n\n    .dataframe tbody tr th {\n        vertical-align: top;\n    }\n\n    .dataframe thead th {\n        text-align: right;\n    }\n</style>\n<table border=\"1\" class=\"dataframe\">\n  <thead>\n    <tr style=\"text-align: right;\">\n      <th></th>\n      <th>PassengerId</th>\n      <th>Survived</th>\n    </tr>\n  </thead>\n  <tbody>\n    <tr>\n      <th>0</th>\n      <td>892</td>\n      <td>0</td>\n    </tr>\n    <tr>\n      <th>1</th>\n      <td>893</td>\n      <td>0</td>\n    </tr>\n    <tr>\n      <th>2</th>\n      <td>894</td>\n      <td>1</td>\n    </tr>\n    <tr>\n      <th>3</th>\n      <td>895</td>\n      <td>1</td>\n    </tr>\n    <tr>\n      <th>4</th>\n      <td>896</td>\n      <td>0</td>\n    </tr>\n    <tr>\n      <th>...</th>\n      <td>...</td>\n      <td>...</td>\n    </tr>\n    <tr>\n      <th>413</th>\n      <td>1305</td>\n      <td>0</td>\n    </tr>\n    <tr>\n      <th>414</th>\n      <td>1306</td>\n      <td>1</td>\n    </tr>\n    <tr>\n      <th>415</th>\n      <td>1307</td>\n      <td>0</td>\n    </tr>\n    <tr>\n      <th>416</th>\n      <td>1308</td>\n      <td>0</td>\n    </tr>\n    <tr>\n      <th>417</th>\n      <td>1309</td>\n      <td>0</td>\n    </tr>\n  </tbody>\n</table>\n<p>418 rows × 2 columns</p>\n</div>"
     },
     "execution_count": 17,
     "metadata": {},
     "output_type": "execute_result"
    }
   ],
   "source": [
    "output"
   ]
  },
  {
   "cell_type": "code",
   "execution_count": 18,
   "id": "98966c44",
   "metadata": {
    "execution": {
     "iopub.execute_input": "2024-01-03T02:55:10.757400Z",
     "iopub.status.busy": "2024-01-03T02:55:10.757018Z",
     "iopub.status.idle": "2024-01-03T02:55:10.765565Z",
     "shell.execute_reply": "2024-01-03T02:55:10.764436Z"
    },
    "papermill": {
     "duration": 0.021049,
     "end_time": "2024-01-03T02:55:10.768130",
     "exception": false,
     "start_time": "2024-01-03T02:55:10.747081",
     "status": "completed"
    },
    "tags": [],
    "ExecuteTime": {
     "end_time": "2024-01-06T03:53:20.625543Z",
     "start_time": "2024-01-06T03:53:20.546701300Z"
    }
   },
   "outputs": [],
   "source": [
    "output.to_csv('output.csv', index = False)"
   ]
  },
  {
   "cell_type": "code",
   "execution_count": 18,
   "id": "d14b5fac",
   "metadata": {
    "papermill": {
     "duration": 0.007986,
     "end_time": "2024-01-03T02:55:10.784416",
     "exception": false,
     "start_time": "2024-01-03T02:55:10.776430",
     "status": "completed"
    },
    "tags": [],
    "ExecuteTime": {
     "end_time": "2024-01-06T03:53:20.625543Z",
     "start_time": "2024-01-06T03:53:20.562958200Z"
    }
   },
   "outputs": [],
   "source": []
  }
 ],
 "metadata": {
  "kaggle": {
   "accelerator": "none",
   "dataSources": [
    {
     "databundleVersionId": 26502,
     "sourceId": 3136,
     "sourceType": "competition"
    }
   ],
   "dockerImageVersionId": 30626,
   "isGpuEnabled": false,
   "isInternetEnabled": false,
   "language": "python",
   "sourceType": "notebook"
  },
  "kernelspec": {
   "display_name": "Python 3",
   "language": "python",
   "name": "python3"
  },
  "language_info": {
   "codemirror_mode": {
    "name": "ipython",
    "version": 3
   },
   "file_extension": ".py",
   "mimetype": "text/x-python",
   "name": "python",
   "nbconvert_exporter": "python",
   "pygments_lexer": "ipython3",
   "version": "3.11.3"
  },
  "papermill": {
   "default_parameters": {},
   "duration": 7.209396,
   "end_time": "2024-01-03T02:55:11.414856",
   "environment_variables": {},
   "exception": null,
   "input_path": "__notebook__.ipynb",
   "output_path": "__notebook__.ipynb",
   "parameters": {},
   "start_time": "2024-01-03T02:55:04.205460",
   "version": "2.4.0"
  }
 },
 "nbformat": 4,
 "nbformat_minor": 5
}
